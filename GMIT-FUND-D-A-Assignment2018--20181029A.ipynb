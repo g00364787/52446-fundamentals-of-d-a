{
 "cells": [
  {
   "cell_type": "markdown",
   "metadata": {},
   "source": [
    "# Fundamentals of Data Analysis\n",
    "##  Assignment 2018\n",
    "### DATE DUE ON/BEFORE 11 NOV 2018"
   ]
  },
  {
   "cell_type": "markdown",
   "metadata": {},
   "source": [
    "Problem statement\n",
    "\n",
    "The following assignment concerns the well-known Anscombe’s quartet dataset [2]. You\n",
    "are required to create a Jupyter [5] notebook analysing the dataset. There are four\n",
    "distinct tasks to be carried out in your Jupyter notebook.\n",
    "\n",
    "1. Explain the background to the dataset – who created it, when it was created, and any speculation you can find regarding how it might have been created.\n",
    "2. Plot the interesting aspects of the dataset.\n",
    "3. Calculate the descriptive statistics of the variables in the dataset.\n",
    "4. Explain why the dataset is interesting, referring to the plots and statistics above."
   ]
  },
  {
   "cell_type": "markdown",
   "metadata": {},
   "source": [
    "### Started 14 October 2018 by creating the Jupyter Notebook file(s)\n",
    "\n",
    "### The input array has 11 usable rows with 1 index column and 8 columns of data."
   ]
  },
  {
   "cell_type": "markdown",
   "metadata": {},
   "source": [
    "# import various libraries "
   ]
  },
  {
   "cell_type": "markdown",
   "metadata": {},
   "source": [
    "import csv\n",
    "\n",
    "import math\n",
    "\n",
    "import statistics as stats\n",
    "\n",
    "import matplotlib.pyplot as plt"
   ]
  },
  {
   "cell_type": "code",
   "execution_count": 41,
   "metadata": {
    "collapsed": true
   },
   "outputs": [],
   "source": [
    "### The following section sets-up the variables/parameters used in the program"
   ]
  },
  {
   "cell_type": "code",
   "execution_count": 42,
   "metadata": {
    "collapsed": true
   },
   "outputs": [],
   "source": [
    "filename = \"anscombe.csv\"\n",
    "# setup the arrays\n",
    "field = []\n",
    "x1 = []\n",
    "x2 = []\n",
    "x3 = []\n",
    "x4 = []\n",
    "xtmp = []\n",
    "y1 = []\n",
    "y2 = []\n",
    "y3 = []\n",
    "y4 = []\n",
    "ytmp = []\n",
    "tmplist = []\n",
    "f1 = 0.1\n",
    "f2 = 0.1\n",
    "f3 = 0.1\n",
    "f4 = 0.1\n",
    "f5 = 0.1\n",
    "f6 = 0.1\n",
    "f7 = 0.1\n",
    "f8 = 0.1\n",
    "idx = 0\n",
    "line_in = '   '\n",
    "line_count1 = 0\n",
    "line_count2 = 0\n",
    "tmps1 = \"\"\n",
    "tmps2 = \"\"\n",
    "i = 0\n",
    "xmax = 0\n",
    "xmin = 9999\n",
    "ymax = 0\n",
    "ymin = 9999\n",
    "\n",
    "x1.clear()\n",
    "x2.clear()\n",
    "x3.clear()\n",
    "x4.clear()\n",
    "y1.clear()\n",
    "y2.clear()\n",
    "y3.clear()\n",
    "y4.clear()\n",
    "tmplist.clear()"
   ]
  },
  {
   "cell_type": "code",
   "execution_count": 43,
   "metadata": {
    "collapsed": true
   },
   "outputs": [],
   "source": [
    "### The next section opens the input file and processes it in the waiting arrays in memory"
   ]
  },
  {
   "cell_type": "code",
   "execution_count": 44,
   "metadata": {},
   "outputs": [
    {
     "name": "stdout",
     "output_type": "stream",
     "text": [
      "# Opening:  anscombe.csv\n",
      "# Using  :   1  =  1,10,10,10,8,8.04,9.14,7.46,6.58\n",
      "# Using  :   2  =  2,8,8,8,8,6.95,8.14,6.77,5.76\n",
      "# Using  :   3  =  3,13,13,13,8,7.58,8.74,12.74,7.71\n",
      "# Using  :   4  =  4,9,9,9,8,8.81,8.77,7.11,8.84\n",
      "# Using  :   5  =  5,11,11,11,8,8.33,9.26,7.81,8.47\n",
      "# Using  :   6  =  6,14,14,14,8,9.96,8.1,8.84,7.04\n",
      "# Using  :   7  =  7,6,6,6,8,7.24,6.13,6.08,5.25\n",
      "# Using  :   8  =  8,4,4,4,19,4.26,3.1,5.39,12.5\n",
      "# Using  :   9  =  9,12,12,12,8,10.84,9.13,8.15,5.56\n",
      "# Using  :  10  =  10,7,7,7,8,4.82,7.26,6.42,7.91\n",
      "# Using  :  11  =  11,5,5,5,8,5.68,4.74,5.73,6.89\n"
     ]
    }
   ],
   "source": [
    "with open(filename) as f:\n",
    "    print(\"# Opening: \",filename)  \n",
    "    while( len(line_in)>1):\n",
    "        # retrieve one line of the file and strip and whitespace off the line\n",
    "        line_in = f.readline().strip()\n",
    "        \n",
    "        # filter out the quotes from the incoming text/string\n",
    "        tmps1 = \"\"\n",
    "        idx = 0\n",
    "        while ( idx < len(line_in) ):\n",
    "            if ( line_in[idx] != \"\\\"\"):\n",
    "                tmps1 = tmps1+line_in[idx]\n",
    "            idx=idx+1\n",
    "        line_in = tmps1\n",
    "        \n",
    "                \n",
    "        # increment the line in counter\n",
    "        line_count1 = line_count1+1\n",
    "        # only if the line is useable ...\n",
    "        if ( len(line_in)>0 ):        \n",
    "            # split the input line up into data fields\n",
    "            field=[]\n",
    "            for w in line_in.split(\",\"):\n",
    "                field.append(w)  \n",
    "            # only accept lines that begin with a numeric\n",
    "            # this will filter out lines that could cause errors                        \n",
    "            if ( line_in[0] != ','):\n",
    "                # increment the used line counter and inform the user\n",
    "                line_count2 = line_count2+1     \n",
    "                print(\"# Using  : \",f\"{line_count2:2}\", \" = \",line_in )  \n",
    "                \n",
    "                # convert the strings into float numbers\n",
    "                #idx = int(field(0))\n",
    "                f1 = float(field[1])\n",
    "                f2 = float(field[2])\n",
    "                f3 = float(field[3])\n",
    "                f4 = float(field[4])\n",
    "                f5 = float(field[5])\n",
    "                f6 = float(field[6])\n",
    "                f7 = float(field[7])\n",
    "                f8 = float(field[8])      \n",
    "                # add these converted numbers onto the array of float numbers\n",
    "                x1.append(f1)\n",
    "                x2.append(f2)\n",
    "                x3.append(f3)\n",
    "                x4.append(f4)\n",
    "                y1.append(f5)\n",
    "                y2.append(f6)\n",
    "                y3.append(f7)\n",
    "                y4.append(f8)                   "
   ]
  },
  {
   "cell_type": "code",
   "execution_count": 45,
   "metadata": {},
   "outputs": [
    {
     "name": "stdout",
     "output_type": "stream",
     "text": [
      "# Closing:  anscombe.csv\n",
      "# End of file\n"
     ]
    }
   ],
   "source": [
    "    # close the file \n",
    "    print(\"# Closing: \",filename)\n",
    "    f.close()\n",
    "    # announce to the screen that the file is closed\n",
    "    print(\"# End of file\")    "
   ]
  },
  {
   "cell_type": "code",
   "execution_count": 46,
   "metadata": {
    "collapsed": true
   },
   "outputs": [],
   "source": [
    "### This section idenitifes the MAX and Min values for both X and Y arrays"
   ]
  },
  {
   "cell_type": "code",
   "execution_count": 47,
   "metadata": {
    "collapsed": true
   },
   "outputs": [],
   "source": [
    "    maxx = 0\n",
    "    minx = 99999\n",
    "    maxy = 0\n",
    "    miny = 99999\n",
    "    xmax = 0\n",
    "    xmin = 9999\n",
    "    ymax = 0\n",
    "    ymin = 9999\n",
    "    \n",
    "    x1min = 9999\n",
    "    x2min = 9999\n",
    "    x3min = 9999\n",
    "    x4min = 9999\n",
    "    x1max = 0\n",
    "    x2max = 0\n",
    "    x3max = 0\n",
    "    x4max = 0\n",
    "    y1min = 9999\n",
    "    y2min = 9999\n",
    "    y3min = 9999\n",
    "    y4min = 9999\n",
    "    y1max = 0\n",
    "    y2max = 0\n",
    "    y3max = 0\n",
    "    y4max = 0\n",
    "    \n",
    "    x1max = max(x1)\n",
    "    x2max = max(x2)\n",
    "    x3max = max(x3)\n",
    "    x4max = max(x4)\n",
    "    xmax = max(x1max,x2max,x3max,x4max)\n",
    "\n",
    "    y1max = max(y1)\n",
    "    y2max = max(y2)\n",
    "    y3max = max(y3)\n",
    "    y4max = max(y4)\n",
    "    ymax = max(y1max,y2max,y3max,y4max)\n",
    "    x1min = min(x1)\n",
    "    x2min = min(x2)\n",
    "    x3min = min(x3)\n",
    "    x4min = min(x4)\n",
    "    xmin = min(x1min,x2min,x3min,x4min)\n",
    "\n",
    "    y1min = min(y1)\n",
    "    y2min = min(y2)\n",
    "    y3min = min(y3)\n",
    "    y4min = min(y4)\n",
    "    ymin = min(y1min,y2min,y3min,y4min)\n"
   ]
  },
  {
   "cell_type": "code",
   "execution_count": 48,
   "metadata": {
    "collapsed": true
   },
   "outputs": [],
   "source": [
    "    ### The next section deals with informing the user of the values encountered and MAX and MIN values found"
   ]
  },
  {
   "cell_type": "code",
   "execution_count": 49,
   "metadata": {},
   "outputs": [
    {
     "name": "stdout",
     "output_type": "stream",
     "text": [
      "# Line count: Total:13 Usable:11\n",
      "x1: [10.0, 8.0, 13.0, 9.0, 11.0, 14.0, 6.0, 4.0, 12.0, 7.0, 5.0]\n",
      "x2: [10.0, 8.0, 13.0, 9.0, 11.0, 14.0, 6.0, 4.0, 12.0, 7.0, 5.0]\n",
      "x3: [10.0, 8.0, 13.0, 9.0, 11.0, 14.0, 6.0, 4.0, 12.0, 7.0, 5.0]\n",
      "x4: [8.0, 8.0, 8.0, 8.0, 8.0, 8.0, 8.0, 19.0, 8.0, 8.0, 8.0]\n",
      "y1: [10.0, 8.0, 13.0, 9.0, 11.0, 14.0, 6.0, 4.0, 12.0, 7.0, 5.0]\n",
      "y2: [9.14, 8.14, 8.74, 8.77, 9.26, 8.1, 6.13, 3.1, 9.13, 7.26, 4.74]\n",
      "y3: [7.46, 6.77, 12.74, 7.11, 7.81, 8.84, 6.08, 5.39, 8.15, 6.42, 5.73]\n",
      "y4: [6.58, 5.76, 7.71, 8.84, 8.47, 7.04, 5.25, 12.5, 5.56, 7.91, 6.89]\n",
      "Max X: 19.0\n",
      "Min X:  4.0\n",
      "Max Y: 12.74\n",
      "Min Y:  3.1\n"
     ]
    }
   ],
   "source": [
    "    # inform the user of how many lines used\n",
    "    print(\"# Line count: Total:\"+str(line_count1)+\" Usable:\"+str(line_count2))\n",
    "    print(\"x1:\",x1)\n",
    "    print(\"x2:\",x2)\n",
    "    print(\"x3:\",x3)\n",
    "    print(\"x4:\",x4)\n",
    "    print(\"y1:\",x1)\n",
    "    print(\"y2:\",y2)\n",
    "    print(\"y3:\",y3)\n",
    "    print(\"y4:\",y4)\n",
    "    # now have 8 arrays for the plotting of the graphs\n",
    "    print(\"Max X:\",f\"{xmax:4}\")\n",
    "    print(\"Min X:\",f\"{xmin:4}\")\n",
    "    print(\"Max Y:\",f\"{ymax:4}\")\n",
    "    print(\"Min Y:\",f\"{ymin:4}\")"
   ]
  },
  {
   "cell_type": "code",
   "execution_count": 50,
   "metadata": {
    "scrolled": true
   },
   "outputs": [
    {
     "data": {
      "text/plain": [
       "<matplotlib.collections.PathCollection at 0xa3fa0b8>"
      ]
     },
     "execution_count": 50,
     "metadata": {},
     "output_type": "execute_result"
    }
   ],
   "source": [
    "    import matplotlib.pyplot as plt\n",
    "    \n",
    "    plt.subplot(1, 2, 1)\n",
    "    plt.xlabel('X1')\n",
    "    plt.ylabel('Y1')\n",
    "    plt.xlim(xmin,xmax)\n",
    "    plt.ylim(ymin,ymax)\n",
    "    plt.scatter(x1,y1)"
   ]
  },
  {
   "cell_type": "code",
   "execution_count": 53,
   "metadata": {},
   "outputs": [
    {
     "name": "stderr",
     "output_type": "stream",
     "text": [
      "C:\\ProgramData\\Anaconda3\\lib\\site-packages\\matplotlib\\cbook\\deprecation.py:106: MatplotlibDeprecationWarning: Adding an axes using the same arguments as a previous axes currently reuses the earlier instance.  In a future version, a new instance will always be created and returned.  Meanwhile, this warning can be suppressed, and the future behavior ensured, by passing a unique label to each axes instance.\n",
      "  warnings.warn(message, mplDeprecation, stacklevel=1)\n"
     ]
    },
    {
     "data": {
      "image/png": "[encoded data removed]",
      "text/plain": [
       "<matplotlib.figure.Figure at 0x81a7e48>"
      ]
     },
     "metadata": {},
     "output_type": "display_data"
    }
   ],
   "source": [
    "    plt.subplot(1, 2, 2)\n",
    "    plt.xlabel('X2')\n",
    "    plt.ylabel('Y2')\n",
    "    plt.xlim(xmin,xmax)\n",
    "    plt.ylim(ymin,ymax)\n",
    "    plt.scatter(x2,y2)\n",
    "    plt.show()"
   ]
  },
  {
   "cell_type": "code",
   "execution_count": 37,
   "metadata": {},
   "outputs": [
    {
     "name": "stderr",
     "output_type": "stream",
     "text": [
      "C:\\ProgramData\\Anaconda3\\lib\\site-packages\\matplotlib\\cbook\\deprecation.py:106: MatplotlibDeprecationWarning: Adding an axes using the same arguments as a previous axes currently reuses the earlier instance.  In a future version, a new instance will always be created and returned.  Meanwhile, this warning can be suppressed, and the future behavior ensured, by passing a unique label to each axes instance.\n",
      "  warnings.warn(message, mplDeprecation, stacklevel=1)\n"
     ]
    },
    {
     "data": {
      "text/plain": [
       "<matplotlib.collections.PathCollection at 0x81b2588>"
      ]
     },
     "execution_count": 37,
     "metadata": {},
     "output_type": "execute_result"
    }
   ],
   "source": [
    "    plt.subplot(1, 2, 1)\n",
    "    plt.xlabel('X3')\n",
    "    plt.ylabel('Y3')\n",
    "    plt.xlim(xmin,xmax)\n",
    "    plt.ylim(ymin,ymax)\n",
    "    plt.scatter(x3,y3)"
   ]
  },
  {
   "cell_type": "code",
   "execution_count": 38,
   "metadata": {},
   "outputs": [
    {
     "name": "stderr",
     "output_type": "stream",
     "text": [
      "C:\\ProgramData\\Anaconda3\\lib\\site-packages\\matplotlib\\cbook\\deprecation.py:106: MatplotlibDeprecationWarning: Adding an axes using the same arguments as a previous axes currently reuses the earlier instance.  In a future version, a new instance will always be created and returned.  Meanwhile, this warning can be suppressed, and the future behavior ensured, by passing a unique label to each axes instance.\n",
      "  warnings.warn(message, mplDeprecation, stacklevel=1)\n"
     ]
    },
    {
     "data": {
      "image/png": "[encoded data removed]",
      "text/plain": [
       "<matplotlib.figure.Figure at 0xa292518>"
      ]
     },
     "metadata": {},
     "output_type": "display_data"
    }
   ],
   "source": [
    "    plt.subplot(1, 2, 2)\n",
    "    plt.xlabel('X4')\n",
    "    plt.ylabel('Y4')\n",
    "    plt.xlim(xmin,xmax)\n",
    "    plt.ylim(ymin,ymax)\n",
    "    plt.scatter(x4,y4)\n",
    "    plt.show()"
   ]
  },
  {
   "cell_type": "code",
   "execution_count": 39,
   "metadata": {
    "collapsed": true
   },
   "outputs": [],
   "source": [
    "    # now import the stats library\n",
    "    import statistics as stats"
   ]
  },
  {
   "cell_type": "code",
   "execution_count": 54,
   "metadata": {},
   "outputs": [
    {
     "name": "stdout",
     "output_type": "stream",
     "text": [
      "Descriptive stats of X1  are\n",
      "Median  :  9.0\n",
      "Average :  9.0\n",
      "Range   :  10.0\n",
      "Std Dev :  3.3166247903554\n",
      "Variance:  10.0\n",
      "\n",
      "Descriptive stats of X2  are\n",
      "Median  :  9.0\n",
      "Average :  9.0\n",
      "Range   :  10.0\n",
      "Std Dev :  3.3166247903554\n",
      "Variance:  10.0\n",
      "\n",
      "Descriptive stats of X3  are\n",
      "Median  :  9.0\n",
      "Average :  9.0\n",
      "Range   :  10.0\n",
      "Std Dev :  3.3166247903554\n",
      "Variance:  10.0\n",
      "\n",
      "Descriptive stats of X4  are\n",
      "Median  :  8.0\n",
      "Average :  9.0\n",
      "Range   :  11.0\n",
      "Std Dev :  3.3166247903554\n",
      "Variance:  10.0\n",
      "\n"
     ]
    }
   ],
   "source": [
    "    # Display the decriptive stats of each array/list\n",
    "    # use a temp variable to enable quick re-use of code\n",
    "    xtmp = x1\n",
    "    strtmp = \"X1\"\n",
    "    xstdev = stats.stdev(xtmp)\n",
    "    xpvar  = stats.pvariance(xtmp)\n",
    "    print(\"Descriptive stats of\",strtmp,\" are\")\n",
    "    print(\"Median  : \",stats.median(xtmp))\n",
    "    print(\"Average : \",stats.mean(xtmp))\n",
    "    print(\"Range   : \",max(xtmp) - min(xtmp))\n",
    "    print(\"Std Dev : \",f\"{xstdev:4}\")\n",
    "    print(\"Variance: \",f\"{xpvar:4}\")\n",
    "    print(\"\")\n",
    "    xtmp = x2\n",
    "    strtmp = \"X2\"\n",
    "    xstdev = stats.stdev(xtmp)    \n",
    "    xpvar  = stats.pvariance(xtmp)\n",
    "    print(\"Descriptive stats of\",strtmp,\" are\")\n",
    "    print(\"Median  : \",stats.median(xtmp))\n",
    "    print(\"Average : \",stats.mean(xtmp))\n",
    "    print(\"Range   : \",max(xtmp) - min(xtmp))\n",
    "    print(\"Std Dev : \",f\"{xstdev:4}\")\n",
    "    print(\"Variance: \",f\"{xpvar:4}\")\n",
    "    print(\"\")\n",
    "    xtmp = x3\n",
    "    strtmp = \"X3\"\n",
    "    xstdev = stats.stdev(xtmp)    \n",
    "    xpvar  = stats.pvariance(xtmp)\n",
    "    print(\"Descriptive stats of\",strtmp,\" are\")\n",
    "    print(\"Median  : \",stats.median(xtmp))\n",
    "    print(\"Average : \",stats.mean(xtmp))\n",
    "    print(\"Range   : \",max(xtmp) - min(xtmp))\n",
    "    print(\"Std Dev : \",f\"{xstdev:4}\")\n",
    "    print(\"Variance: \",f\"{xpvar:4}\")\n",
    "    print(\"\")\n",
    "    xtmp = x4\n",
    "    strtmp = \"X4\"\n",
    "    xstdev = stats.stdev(xtmp)    \n",
    "    xpvar  = stats.pvariance(xtmp)\n",
    "    print(\"Descriptive stats of\",strtmp,\" are\")\n",
    "    print(\"Median  : \",stats.median(xtmp))\n",
    "    print(\"Average : \",stats.mean(xtmp))\n",
    "    print(\"Range   : \",max(xtmp) - min(xtmp))\n",
    "    print(\"Std Dev : \",f\"{xstdev:4}\")\n",
    "    print(\"Variance: \",f\"{xpvar:4}\")\n",
    "    print(\"\")    "
   ]
  },
  {
   "cell_type": "code",
   "execution_count": 55,
   "metadata": {},
   "outputs": [
    {
     "name": "stdout",
     "output_type": "stream",
     "text": [
      "Descriptive stats of Y1  are\n",
      "Median  :  7.58\n",
      "Average :  7.500909090909091\n",
      "Range   :  6.58\n",
      "Std Dev :  2.031568135925815\n",
      "Variance:  3.752062809917356\n",
      "\n",
      "Descriptive stats of Y2  are\n",
      "Median  :  8.14\n",
      "Average :  7.500909090909091\n",
      "Range   :  6.16\n",
      "Std Dev :  2.0316567355016177\n",
      "Variance:  3.752390082644628\n",
      "\n",
      "Descriptive stats of Y3  are\n",
      "Median  :  7.11\n",
      "Average :  7.5\n",
      "Range   :  7.3500000000000005\n",
      "Std Dev :  2.030423601123667\n",
      "Variance:  3.747836363636364\n",
      "\n",
      "Descriptive stats of Y4  are\n",
      "Median  :  7.04\n",
      "Average :  7.500909090909091\n",
      "Range   :  7.25\n",
      "Std Dev :  2.0305785113876023\n",
      "Variance:  3.7484082644628103\n",
      "\n"
     ]
    }
   ],
   "source": [
    "    xtmp = y1\n",
    "    strtmp = \"Y1\"\n",
    "    xstdev = stats.stdev(xtmp)\n",
    "    xpvar  = stats.pvariance(xtmp)\n",
    "    print(\"Descriptive stats of\",strtmp,\" are\")\n",
    "    print(\"Median  : \",stats.median(xtmp))\n",
    "    print(\"Average : \",stats.mean(xtmp))\n",
    "    print(\"Range   : \",max(xtmp) - min(xtmp))\n",
    "    print(\"Std Dev : \",f\"{xstdev:4}\")\n",
    "    print(\"Variance: \",f\"{xpvar:4}\")\n",
    "    print(\"\")\n",
    "    xtmp = y2\n",
    "    strtmp = \"Y2\"\n",
    "    xstdev = stats.stdev(xtmp)\n",
    "    xpvar  = stats.pvariance(xtmp)\n",
    "    print(\"Descriptive stats of\",strtmp,\" are\")\n",
    "    print(\"Median  : \",stats.median(xtmp))\n",
    "    print(\"Average : \",stats.mean(xtmp))\n",
    "    print(\"Range   : \",max(xtmp) - min(xtmp))\n",
    "    print(\"Std Dev : \",f\"{xstdev:4}\")\n",
    "    print(\"Variance: \",f\"{xpvar:4}\")\n",
    "    print(\"\")\n",
    "    xtmp = y3\n",
    "    strtmp = \"Y3\"\n",
    "    xstdev = stats.stdev(xtmp)\n",
    "    xpvar  = stats.pvariance(xtmp)\n",
    "    print(\"Descriptive stats of\",strtmp,\" are\")\n",
    "    print(\"Median  : \",stats.median(xtmp))\n",
    "    print(\"Average : \",stats.mean(xtmp))\n",
    "    print(\"Range   : \",max(xtmp) - min(xtmp))\n",
    "    print(\"Std Dev : \",f\"{xstdev:4}\")\n",
    "    print(\"Variance: \",f\"{xpvar:4}\")\n",
    "    print(\"\")    \n",
    "    xtmp = y4\n",
    "    strtmp = \"Y4\"\n",
    "    xstdev = stats.stdev(xtmp)\n",
    "    xpvar  = stats.pvariance(xtmp)\n",
    "    print(\"Descriptive stats of\",strtmp,\" are\")\n",
    "    print(\"Median  : \",stats.median(xtmp))\n",
    "    print(\"Average : \",stats.mean(xtmp))\n",
    "    print(\"Range   : \",max(xtmp) - min(xtmp))\n",
    "    print(\"Std Dev : \",f\"{xstdev:4}\")\n",
    "    print(\"Variance: \",f\"{xpvar:4}\")\n",
    "    print(\"\")"
   ]
  },
  {
   "cell_type": "code",
   "execution_count": null,
   "metadata": {
    "collapsed": true
   },
   "outputs": [],
   "source": []
  },
  {
   "cell_type": "code",
   "execution_count": null,
   "metadata": {
    "collapsed": true
   },
   "outputs": [],
   "source": []
  },
  {
   "cell_type": "code",
   "execution_count": null,
   "metadata": {
    "collapsed": true
   },
   "outputs": [],
   "source": []
  }
 ],
 "metadata": {
  "kernelspec": {
   "display_name": "Python 3",
   "language": "python",
   "name": "python3"
  },
  "language_info": {
   "codemirror_mode": {
    "name": "ipython",
    "version": 3
   },
   "file_extension": ".py",
   "mimetype": "text/x-python",
   "name": "python",
   "nbconvert_exporter": "python",
   "pygments_lexer": "ipython3",
   "version": "3.6.3"
  }
 },
 "nbformat": 4,
 "nbformat_minor": 2
}
